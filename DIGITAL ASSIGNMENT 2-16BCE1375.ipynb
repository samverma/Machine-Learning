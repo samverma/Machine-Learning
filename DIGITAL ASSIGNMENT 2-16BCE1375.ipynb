{
 "cells": [
  {
   "cell_type": "markdown",
   "metadata": {},
   "source": [
    "# DIGITAL ASSIGNMENT-2 \n",
    "\n",
    "__SAMRIDDHI VERMA__                                               \n",
    "__16BCE1375__                                                     \n",
    "__SLOT:G1__"
   ]
  },
  {
   "cell_type": "markdown",
   "metadata": {},
   "source": [
    "__DATASET SOURCE: <https://data.world/databeats/seeds>__"
   ]
  },
  {
   "cell_type": "code",
   "execution_count": 1,
   "metadata": {},
   "outputs": [],
   "source": [
    "import pandas as pd\n",
    "import numpy as np\n",
    "import matplotlib.pyplot as plt\n",
    "%matplotlib inline"
   ]
  },
  {
   "cell_type": "code",
   "execution_count": 2,
   "metadata": {},
   "outputs": [],
   "source": [
    "# reading data\n",
    "data = pd.read_csv(\"seeds_dataset.csv\")"
   ]
  },
  {
   "cell_type": "markdown",
   "metadata": {},
   "source": [
    "__The examined group comprised kernels belonging to three different varieties of wheat: Kama, Rosa and Canadian, 70 elements each, randomly selected for the experiment. High quality visualization of the internal kernel structure was detected using a soft X-ray technique. It is non-destructive and considerably cheaper than other more sophisticated imaging techniques like scanning microscopy or laser technology. The images were recorded on 13x18 cm X-ray KODAK plates. Studies were conducted using combine harvested wheat grain originating from experimental fields, explored at the Institute of Agrophysics of the Polish Academy of Sciences in Lublin.\n",
    "Attribute Information:__\n",
    "\n",
    "__area A,\n",
    "perimeter P,\n",
    "compactness C = 4piA/P^2,\n",
    "length of kernel,\n",
    "width of kernel,\n",
    "asymmetry coefficient\n",
    "length of kernel groove. All of these parameters were real-valued continuous.__"
   ]
  },
  {
   "cell_type": "code",
   "execution_count": 3,
   "metadata": {},
   "outputs": [
    {
     "data": {
      "text/html": [
       "<div>\n",
       "<style scoped>\n",
       "    .dataframe tbody tr th:only-of-type {\n",
       "        vertical-align: middle;\n",
       "    }\n",
       "\n",
       "    .dataframe tbody tr th {\n",
       "        vertical-align: top;\n",
       "    }\n",
       "\n",
       "    .dataframe thead th {\n",
       "        text-align: right;\n",
       "    }\n",
       "</style>\n",
       "<table border=\"1\" class=\"dataframe\">\n",
       "  <thead>\n",
       "    <tr style=\"text-align: right;\">\n",
       "      <th></th>\n",
       "      <th>ID</th>\n",
       "      <th>area</th>\n",
       "      <th>perimeter</th>\n",
       "      <th>compactness</th>\n",
       "      <th>lengthOfKernel</th>\n",
       "      <th>widthOfKernel</th>\n",
       "      <th>asymmetryCoefficient</th>\n",
       "      <th>lengthOfKernelGroove</th>\n",
       "      <th>seedType</th>\n",
       "    </tr>\n",
       "  </thead>\n",
       "  <tbody>\n",
       "    <tr>\n",
       "      <th>0</th>\n",
       "      <td>1</td>\n",
       "      <td>15.26</td>\n",
       "      <td>14.84</td>\n",
       "      <td>0.8710</td>\n",
       "      <td>5.763</td>\n",
       "      <td>3.312</td>\n",
       "      <td>2.221</td>\n",
       "      <td>5.220</td>\n",
       "      <td>1</td>\n",
       "    </tr>\n",
       "    <tr>\n",
       "      <th>1</th>\n",
       "      <td>2</td>\n",
       "      <td>14.88</td>\n",
       "      <td>14.57</td>\n",
       "      <td>0.8811</td>\n",
       "      <td>5.554</td>\n",
       "      <td>3.333</td>\n",
       "      <td>1.018</td>\n",
       "      <td>4.956</td>\n",
       "      <td>1</td>\n",
       "    </tr>\n",
       "    <tr>\n",
       "      <th>2</th>\n",
       "      <td>3</td>\n",
       "      <td>14.29</td>\n",
       "      <td>14.09</td>\n",
       "      <td>0.9050</td>\n",
       "      <td>5.291</td>\n",
       "      <td>3.337</td>\n",
       "      <td>2.699</td>\n",
       "      <td>4.825</td>\n",
       "      <td>1</td>\n",
       "    </tr>\n",
       "    <tr>\n",
       "      <th>3</th>\n",
       "      <td>4</td>\n",
       "      <td>13.84</td>\n",
       "      <td>13.94</td>\n",
       "      <td>0.8955</td>\n",
       "      <td>5.324</td>\n",
       "      <td>3.379</td>\n",
       "      <td>2.259</td>\n",
       "      <td>4.805</td>\n",
       "      <td>1</td>\n",
       "    </tr>\n",
       "    <tr>\n",
       "      <th>4</th>\n",
       "      <td>5</td>\n",
       "      <td>16.14</td>\n",
       "      <td>14.99</td>\n",
       "      <td>0.9034</td>\n",
       "      <td>5.658</td>\n",
       "      <td>3.562</td>\n",
       "      <td>1.355</td>\n",
       "      <td>5.175</td>\n",
       "      <td>1</td>\n",
       "    </tr>\n",
       "  </tbody>\n",
       "</table>\n",
       "</div>"
      ],
      "text/plain": [
       "   ID   area  perimeter  compactness  lengthOfKernel  widthOfKernel  \\\n",
       "0   1  15.26      14.84       0.8710           5.763          3.312   \n",
       "1   2  14.88      14.57       0.8811           5.554          3.333   \n",
       "2   3  14.29      14.09       0.9050           5.291          3.337   \n",
       "3   4  13.84      13.94       0.8955           5.324          3.379   \n",
       "4   5  16.14      14.99       0.9034           5.658          3.562   \n",
       "\n",
       "   asymmetryCoefficient  lengthOfKernelGroove  seedType  \n",
       "0                 2.221                 5.220         1  \n",
       "1                 1.018                 4.956         1  \n",
       "2                 2.699                 4.825         1  \n",
       "3                 2.259                 4.805         1  \n",
       "4                 1.355                 5.175         1  "
      ]
     },
     "execution_count": 3,
     "metadata": {},
     "output_type": "execute_result"
    }
   ],
   "source": [
    "data.head()"
   ]
  },
  {
   "cell_type": "code",
   "execution_count": 4,
   "metadata": {},
   "outputs": [],
   "source": [
    "data.drop(['ID'], axis = 1, inplace = True)\n",
    "labels = data['seedType']\n",
    "del data['seedType']\n"
   ]
  },
  {
   "cell_type": "code",
   "execution_count": 5,
   "metadata": {
    "scrolled": true
   },
   "outputs": [
    {
     "data": {
      "text/html": [
       "<div>\n",
       "<style scoped>\n",
       "    .dataframe tbody tr th:only-of-type {\n",
       "        vertical-align: middle;\n",
       "    }\n",
       "\n",
       "    .dataframe tbody tr th {\n",
       "        vertical-align: top;\n",
       "    }\n",
       "\n",
       "    .dataframe thead th {\n",
       "        text-align: right;\n",
       "    }\n",
       "</style>\n",
       "<table border=\"1\" class=\"dataframe\">\n",
       "  <thead>\n",
       "    <tr style=\"text-align: right;\">\n",
       "      <th></th>\n",
       "      <th>area</th>\n",
       "      <th>perimeter</th>\n",
       "      <th>compactness</th>\n",
       "      <th>lengthOfKernel</th>\n",
       "      <th>widthOfKernel</th>\n",
       "      <th>asymmetryCoefficient</th>\n",
       "      <th>lengthOfKernelGroove</th>\n",
       "    </tr>\n",
       "  </thead>\n",
       "  <tbody>\n",
       "    <tr>\n",
       "      <th>0</th>\n",
       "      <td>15.26</td>\n",
       "      <td>14.84</td>\n",
       "      <td>0.8710</td>\n",
       "      <td>5.763</td>\n",
       "      <td>3.312</td>\n",
       "      <td>2.221</td>\n",
       "      <td>5.220</td>\n",
       "    </tr>\n",
       "    <tr>\n",
       "      <th>1</th>\n",
       "      <td>14.88</td>\n",
       "      <td>14.57</td>\n",
       "      <td>0.8811</td>\n",
       "      <td>5.554</td>\n",
       "      <td>3.333</td>\n",
       "      <td>1.018</td>\n",
       "      <td>4.956</td>\n",
       "    </tr>\n",
       "    <tr>\n",
       "      <th>2</th>\n",
       "      <td>14.29</td>\n",
       "      <td>14.09</td>\n",
       "      <td>0.9050</td>\n",
       "      <td>5.291</td>\n",
       "      <td>3.337</td>\n",
       "      <td>2.699</td>\n",
       "      <td>4.825</td>\n",
       "    </tr>\n",
       "    <tr>\n",
       "      <th>3</th>\n",
       "      <td>13.84</td>\n",
       "      <td>13.94</td>\n",
       "      <td>0.8955</td>\n",
       "      <td>5.324</td>\n",
       "      <td>3.379</td>\n",
       "      <td>2.259</td>\n",
       "      <td>4.805</td>\n",
       "    </tr>\n",
       "    <tr>\n",
       "      <th>4</th>\n",
       "      <td>16.14</td>\n",
       "      <td>14.99</td>\n",
       "      <td>0.9034</td>\n",
       "      <td>5.658</td>\n",
       "      <td>3.562</td>\n",
       "      <td>1.355</td>\n",
       "      <td>5.175</td>\n",
       "    </tr>\n",
       "  </tbody>\n",
       "</table>\n",
       "</div>"
      ],
      "text/plain": [
       "    area  perimeter  compactness  lengthOfKernel  widthOfKernel  \\\n",
       "0  15.26      14.84       0.8710           5.763          3.312   \n",
       "1  14.88      14.57       0.8811           5.554          3.333   \n",
       "2  14.29      14.09       0.9050           5.291          3.337   \n",
       "3  13.84      13.94       0.8955           5.324          3.379   \n",
       "4  16.14      14.99       0.9034           5.658          3.562   \n",
       "\n",
       "   asymmetryCoefficient  lengthOfKernelGroove  \n",
       "0                 2.221                 5.220  \n",
       "1                 1.018                 4.956  \n",
       "2                 2.699                 4.825  \n",
       "3                 2.259                 4.805  \n",
       "4                 1.355                 5.175  "
      ]
     },
     "execution_count": 5,
     "metadata": {},
     "output_type": "execute_result"
    }
   ],
   "source": [
    "data.head()"
   ]
  },
  {
   "cell_type": "code",
   "execution_count": 6,
   "metadata": {},
   "outputs": [],
   "source": [
    "data=data.describe()"
   ]
  },
  {
   "cell_type": "code",
   "execution_count": 7,
   "metadata": {},
   "outputs": [
    {
     "data": {
      "text/html": [
       "<div>\n",
       "<style scoped>\n",
       "    .dataframe tbody tr th:only-of-type {\n",
       "        vertical-align: middle;\n",
       "    }\n",
       "\n",
       "    .dataframe tbody tr th {\n",
       "        vertical-align: top;\n",
       "    }\n",
       "\n",
       "    .dataframe thead th {\n",
       "        text-align: right;\n",
       "    }\n",
       "</style>\n",
       "<table border=\"1\" class=\"dataframe\">\n",
       "  <thead>\n",
       "    <tr style=\"text-align: right;\">\n",
       "      <th></th>\n",
       "      <th>count</th>\n",
       "      <th>mean</th>\n",
       "      <th>std</th>\n",
       "      <th>min</th>\n",
       "      <th>25%</th>\n",
       "      <th>50%</th>\n",
       "      <th>75%</th>\n",
       "      <th>max</th>\n",
       "    </tr>\n",
       "  </thead>\n",
       "  <tbody>\n",
       "    <tr>\n",
       "      <th>area</th>\n",
       "      <td>210.0</td>\n",
       "      <td>14.847524</td>\n",
       "      <td>2.909699</td>\n",
       "      <td>10.5900</td>\n",
       "      <td>12.27000</td>\n",
       "      <td>14.35500</td>\n",
       "      <td>17.305000</td>\n",
       "      <td>21.1800</td>\n",
       "    </tr>\n",
       "    <tr>\n",
       "      <th>perimeter</th>\n",
       "      <td>210.0</td>\n",
       "      <td>14.559286</td>\n",
       "      <td>1.305959</td>\n",
       "      <td>12.4100</td>\n",
       "      <td>13.45000</td>\n",
       "      <td>14.32000</td>\n",
       "      <td>15.715000</td>\n",
       "      <td>17.2500</td>\n",
       "    </tr>\n",
       "    <tr>\n",
       "      <th>compactness</th>\n",
       "      <td>210.0</td>\n",
       "      <td>0.870999</td>\n",
       "      <td>0.023629</td>\n",
       "      <td>0.8081</td>\n",
       "      <td>0.85690</td>\n",
       "      <td>0.87345</td>\n",
       "      <td>0.887775</td>\n",
       "      <td>0.9183</td>\n",
       "    </tr>\n",
       "    <tr>\n",
       "      <th>lengthOfKernel</th>\n",
       "      <td>210.0</td>\n",
       "      <td>5.628533</td>\n",
       "      <td>0.443063</td>\n",
       "      <td>4.8990</td>\n",
       "      <td>5.26225</td>\n",
       "      <td>5.52350</td>\n",
       "      <td>5.979750</td>\n",
       "      <td>6.6750</td>\n",
       "    </tr>\n",
       "    <tr>\n",
       "      <th>widthOfKernel</th>\n",
       "      <td>210.0</td>\n",
       "      <td>3.258605</td>\n",
       "      <td>0.377714</td>\n",
       "      <td>2.6300</td>\n",
       "      <td>2.94400</td>\n",
       "      <td>3.23700</td>\n",
       "      <td>3.561750</td>\n",
       "      <td>4.0330</td>\n",
       "    </tr>\n",
       "    <tr>\n",
       "      <th>asymmetryCoefficient</th>\n",
       "      <td>210.0</td>\n",
       "      <td>3.700201</td>\n",
       "      <td>1.503557</td>\n",
       "      <td>0.7651</td>\n",
       "      <td>2.56150</td>\n",
       "      <td>3.59900</td>\n",
       "      <td>4.768750</td>\n",
       "      <td>8.4560</td>\n",
       "    </tr>\n",
       "    <tr>\n",
       "      <th>lengthOfKernelGroove</th>\n",
       "      <td>210.0</td>\n",
       "      <td>5.408071</td>\n",
       "      <td>0.491480</td>\n",
       "      <td>4.5190</td>\n",
       "      <td>5.04500</td>\n",
       "      <td>5.22300</td>\n",
       "      <td>5.877000</td>\n",
       "      <td>6.5500</td>\n",
       "    </tr>\n",
       "  </tbody>\n",
       "</table>\n",
       "</div>"
      ],
      "text/plain": [
       "                      count       mean       std      min       25%       50%  \\\n",
       "area                  210.0  14.847524  2.909699  10.5900  12.27000  14.35500   \n",
       "perimeter             210.0  14.559286  1.305959  12.4100  13.45000  14.32000   \n",
       "compactness           210.0   0.870999  0.023629   0.8081   0.85690   0.87345   \n",
       "lengthOfKernel        210.0   5.628533  0.443063   4.8990   5.26225   5.52350   \n",
       "widthOfKernel         210.0   3.258605  0.377714   2.6300   2.94400   3.23700   \n",
       "asymmetryCoefficient  210.0   3.700201  1.503557   0.7651   2.56150   3.59900   \n",
       "lengthOfKernelGroove  210.0   5.408071  0.491480   4.5190   5.04500   5.22300   \n",
       "\n",
       "                            75%      max  \n",
       "area                  17.305000  21.1800  \n",
       "perimeter             15.715000  17.2500  \n",
       "compactness            0.887775   0.9183  \n",
       "lengthOfKernel         5.979750   6.6750  \n",
       "widthOfKernel          3.561750   4.0330  \n",
       "asymmetryCoefficient   4.768750   8.4560  \n",
       "lengthOfKernelGroove   5.877000   6.5500  "
      ]
     },
     "execution_count": 7,
     "metadata": {},
     "output_type": "execute_result"
    }
   ],
   "source": [
    "data.transpose()"
   ]
  },
  {
   "cell_type": "code",
   "execution_count": 8,
   "metadata": {},
   "outputs": [
    {
     "data": {
      "text/plain": [
       "area                    0\n",
       "perimeter               0\n",
       "compactness             0\n",
       "lengthOfKernel          0\n",
       "widthOfKernel           0\n",
       "asymmetryCoefficient    0\n",
       "lengthOfKernelGroove    0\n",
       "dtype: int64"
      ]
     },
     "execution_count": 8,
     "metadata": {},
     "output_type": "execute_result"
    }
   ],
   "source": [
    "data.isnull().sum()"
   ]
  },
  {
   "cell_type": "markdown",
   "metadata": {},
   "source": [
    "__We see that there are no null/missing values in the dataset.__"
   ]
  },
  {
   "cell_type": "markdown",
   "metadata": {},
   "source": [
    "__Performing PCA:__"
   ]
  },
  {
   "cell_type": "code",
   "execution_count": 9,
   "metadata": {},
   "outputs": [],
   "source": [
    "from sklearn.decomposition import PCA\n",
    "X = PCA(n_components = 2).fit_transform(data)"
   ]
  },
  {
   "cell_type": "markdown",
   "metadata": {},
   "source": [
    "__Visualising:__"
   ]
  },
  {
   "cell_type": "code",
   "execution_count": 10,
   "metadata": {},
   "outputs": [
    {
     "data": {
      "image/png": "[encoded data removed]",
      "text/plain": [
       "<Figure size 432x288 with 1 Axes>"
      ]
     },
     "metadata": {},
     "output_type": "display_data"
    }
   ],
   "source": [
    "plt.scatter(X[:, 0], X[:, 1])\n",
    "plt.xlabel('PComp1')\n",
    "plt.ylabel('PComp2')\n",
    "plt.show()"
   ]
  },
  {
   "cell_type": "markdown",
   "metadata": {},
   "source": [
    "# K-MEANS"
   ]
  },
  {
   "cell_type": "markdown",
   "metadata": {},
   "source": [
    "__Using elbow method ,we find the optimal number of clusters for this dataset__"
   ]
  },
  {
   "cell_type": "code",
   "execution_count": 11,
   "metadata": {
    "scrolled": true
   },
   "outputs": [],
   "source": [
    "from sklearn.cluster import KMeans\n",
    "distortions = []\n",
    "for i in range(1,9):\n",
    "    km = KMeans(n_clusters = i,\n",
    "                init = 'k-means++',\n",
    "                n_init = 10,\n",
    "                max_iter = 300,\n",
    "                random_state = 0)\n",
    "    km.fit(X)\n",
    "    distortions.append(km.inertia_)"
   ]
  },
  {
   "cell_type": "code",
   "execution_count": 12,
   "metadata": {},
   "outputs": [
    {
     "data": {
      "image/png": "[encoded data removed]",
      "text/plain": [
       "<Figure size 432x288 with 1 Axes>"
      ]
     },
     "metadata": {},
     "output_type": "display_data"
    }
   ],
   "source": [
    "plt.plot(range(1, 9), distortions, marker = 'o')\n",
    "plt.xlabel('No. of cluster')\n",
    "plt.ylabel('Distortion')\n",
    "plt.show()"
   ]
  },
  {
   "cell_type": "markdown",
   "metadata": {},
   "source": [
    "__Performing KMeans with 3 clusters and visualising the results__"
   ]
  },
  {
   "cell_type": "code",
   "execution_count": 13,
   "metadata": {},
   "outputs": [],
   "source": [
    "km = KMeans(n_clusters = 3,\n",
    "                init = 'k-means++',\n",
    "                n_init = 10,\n",
    "                max_iter = 300,\n",
    "                random_state = 0)\n",
    "y_km = km.fit_predict(X)"
   ]
  },
  {
   "cell_type": "code",
   "execution_count": 14,
   "metadata": {
    "scrolled": true
   },
   "outputs": [
    {
     "data": {
      "image/png": "[encoded data removed]",
      "text/plain": [
       "<Figure size 432x288 with 1 Axes>"
      ]
     },
     "metadata": {},
     "output_type": "display_data"
    }
   ],
   "source": [
    "plt.scatter(X[y_km == 0, 0],\n",
    "            X[y_km == 0, 1],\n",
    "            s = 50,\n",
    "            c = 'Green',\n",
    "            marker = 'o',\n",
    "            edgecolor = 'black',\n",
    "            label = 'Cluster1')\n",
    "plt.scatter(X[y_km == 1, 0],\n",
    "            X[y_km == 1, 1],\n",
    "            s = 50,\n",
    "            c = 'Blue',\n",
    "            marker = '^',\n",
    "            edgecolor = 'black',\n",
    "            label = 'Cluster2')\n",
    "plt.scatter(X[y_km == 2, 0],\n",
    "            X[y_km == 2, 1],\n",
    "            s = 50,\n",
    "            c = 'Yellow',\n",
    "            marker = 's',\n",
    "            edgecolor = 'black',\n",
    "            label = 'Cluster3')\n",
    "plt.scatter(km.cluster_centers_[:, 0],\n",
    "            km.cluster_centers_[:, 1],\n",
    "            s = 250,\n",
    "            c = 'red',\n",
    "            marker = '*',\n",
    "            edgecolor = 'black',\n",
    "            label = 'Centroids')\n",
    "plt.xlabel('PComp1')\n",
    "plt.ylabel('PComp2')\n",
    "plt.legend()\n",
    "plt.grid()\n",
    "plt.show()"
   ]
  },
  {
   "cell_type": "markdown",
   "metadata": {},
   "source": [
    "# Agglomerative Clustering (AGNES) "
   ]
  },
  {
   "cell_type": "markdown",
   "metadata": {},
   "source": [
    "__This is a \"bottom-up\" approach: each observation starts in its own cluster, and pairs of clusters are merged as one moves up the hierarchy.__"
   ]
  },
  {
   "cell_type": "code",
   "execution_count": 15,
   "metadata": {},
   "outputs": [],
   "source": [
    "from scipy.cluster.hierarchy import linkage\n",
    "from scipy.cluster.hierarchy import dendrogram"
   ]
  },
  {
   "cell_type": "markdown",
   "metadata": {},
   "source": [
    "__We will plot dendrogram for the dataset to find optimal number of clusters.__"
   ]
  },
  {
   "cell_type": "code",
   "execution_count": 16,
   "metadata": {},
   "outputs": [
    {
     "data": {
      "image/png": "[encoded data removed]",
      "text/plain": [
       "<Figure size 1080x1440 with 1 Axes>"
      ]
     },
     "metadata": {},
     "output_type": "display_data"
    }
   ],
   "source": [
    "row_clusters = linkage(data.values,\n",
    "                       method = 'complete',\n",
    "                       metric = 'euclidean')\n",
    "plt.figure(figsize = (15, 20))\n",
    "row_dendr = dendrogram(row_clusters)\n",
    "plt.ylabel('Euclidean distance')\n",
    "plt.show()"
   ]
  },
  {
   "cell_type": "markdown",
   "metadata": {},
   "source": [
    "__We can conclude that the optimal number of clusters is 3.__"
   ]
  },
  {
   "cell_type": "markdown",
   "metadata": {},
   "source": [
    "__Performing AGNES for 3 clusters and visualising it.__"
   ]
  },
  {
   "cell_type": "code",
   "execution_count": 17,
   "metadata": {},
   "outputs": [],
   "source": [
    "from sklearn.cluster import AgglomerativeClustering\n"
   ]
  },
  {
   "cell_type": "code",
   "execution_count": 18,
   "metadata": {},
   "outputs": [],
   "source": [
    "agnes = AgglomerativeClustering(n_clusters = 3,\n",
    "                             linkage = 'complete',\n",
    "                             affinity = 'euclidean')\n",
    "labels = agnes.fit_predict(X)"
   ]
  },
  {
   "cell_type": "code",
   "execution_count": 19,
   "metadata": {},
   "outputs": [
    {
     "data": {
      "image/png": "[encoded data removed]",
      "text/plain": [
       "<Figure size 432x288 with 1 Axes>"
      ]
     },
     "metadata": {},
     "output_type": "display_data"
    }
   ],
   "source": [
    "plt.scatter(X[y_km == 0, 0],\n",
    "            X[y_km == 0, 1],\n",
    "            s = 50,\n",
    "            c = 'Green',\n",
    "            marker = 'o',\n",
    "            edgecolor = 'black',\n",
    "            label = 'Cluster1')\n",
    "plt.scatter(X[y_km == 1, 0],\n",
    "            X[y_km == 1, 1],\n",
    "            s = 50,\n",
    "            c = 'Blue',\n",
    "            marker = '^',\n",
    "            edgecolor = 'black',\n",
    "            label = 'Cluster2')\n",
    "plt.scatter(X[y_km == 2, 0],\n",
    "            X[y_km == 2, 1],\n",
    "            s = 50,\n",
    "            c = 'Yellow',\n",
    "            marker = 's',\n",
    "            edgecolor = 'black',\n",
    "            label = 'Cluster3')\n",
    "plt.scatter(km.cluster_centers_[:, 0],\n",
    "            km.cluster_centers_[:, 1],\n",
    "            s = 250,\n",
    "            c = 'red',\n",
    "            marker = '*',\n",
    "            edgecolor = 'black',\n",
    "            label = 'Centroids')\n",
    "plt.xlabel('PComp1')\n",
    "plt.ylabel('PComp2')\n",
    "plt.legend()\n",
    "plt.grid()\n",
    "plt.show()"
   ]
  },
  {
   "cell_type": "markdown",
   "metadata": {},
   "source": [
    "__The above visual shows the three clusters made using AGNES for this dataset.__"
   ]
  },
  {
   "cell_type": "markdown",
   "metadata": {},
   "source": [
    "# Divisive Analysis (DIANA) Clustering"
   ]
  },
  {
   "cell_type": "markdown",
   "metadata": {},
   "source": [
    "__This is a \"bottom-up\" approach: each observation starts in its own cluster, and pairs of clusters are merged as one moves up the hierarchy.__"
   ]
  },
  {
   "cell_type": "code",
   "execution_count": 20,
   "metadata": {},
   "outputs": [],
   "source": [
    "from scipy.spatial.distance import pdist, squareform"
   ]
  },
  {
   "cell_type": "markdown",
   "metadata": {},
   "source": [
    "__We perform DIANA on this dataset to view the clusters and transactions present in it at different levels of clustering.__"
   ]
  },
  {
   "cell_type": "code",
   "execution_count": 21,
   "metadata": {
    "scrolled": true
   },
   "outputs": [
    {
     "name": "stdout",
     "output_type": "stream",
     "text": [
      "Level 1 -->\n",
      "[[0, 1, 2, 3, 4, 5, 6, 7]]\n",
      "\n",
      "Level 2 -->\n",
      "[[1, 2, 3, 4, 5, 6, 7], [0]]\n",
      "\n",
      "Level 3 -->\n",
      "[[0], [1, 3, 4, 5, 6, 7], [2]]\n",
      "\n",
      "Level 4 -->\n",
      "[[0], [2], [1, 3, 4, 5, 6], [7]]\n",
      "\n",
      "Level 5 -->\n",
      "[[0], [2], [7], [1, 5, 6], [3, 4]]\n",
      "\n",
      "Level 6 -->\n",
      "[[0], [2], [7], [3, 4], [1, 5], [6]]\n",
      "\n",
      "Level 7 -->\n",
      "[[0], [2], [7], [1, 5], [6], [4], [3]]\n",
      "\n",
      "Level 8 -->\n",
      "[[0], [2], [7], [6], [4], [3], [5], [1]]\n",
      "\n"
     ]
    }
   ],
   "source": [
    "num_clusters = 0\n",
    "mat = data.values\n",
    "all_elements = [i for i in range(data.shape[0])]\n",
    "dissimilarity_matrix = pd.DataFrame(squareform(pdist(data,\n",
    "                                         metric = 'euclidean')),\n",
    "                        columns = all_elements,\n",
    "                        index = all_elements)\n",
    "\n",
    "\n",
    "def avg_dissim_within_group_element(ele, element_list):\n",
    "    max_diameter = -np.inf\n",
    "    sum_dissm = 0\n",
    "    for i in element_list:\n",
    "        sum_dissm += dissimilarity_matrix[ele][i]   \n",
    "        if( dissimilarity_matrix[ele][i]  > max_diameter):\n",
    "            max_diameter = dissimilarity_matrix[ele][i]\n",
    "    if(len(element_list)>1):\n",
    "        avg = sum_dissm/(len(element_list)-1)\n",
    "    else: \n",
    "        avg = 0\n",
    "    return avg\n",
    "\n",
    "def avg_dissim_across_group_element(ele, main_list, splinter_list):\n",
    "    if len(splinter_list) == 0:\n",
    "        return 0\n",
    "    sum_dissm = 0\n",
    "    for j in splinter_list:\n",
    "        sum_dissm = sum_dissm + dissimilarity_matrix[ele][j]\n",
    "    avg = sum_dissm/(len(splinter_list))\n",
    "    return avg\n",
    "    \n",
    "    \n",
    "def splinter(main_list, splinter_group):\n",
    "    most_dissm_object_value = -np.inf\n",
    "    most_dissm_object_index = None\n",
    "    for ele in main_list:\n",
    "        x = avg_dissim_within_group_element(ele, main_list)\n",
    "        y = avg_dissim_across_group_element(ele, main_list, splinter_group)\n",
    "        diff= x -y\n",
    "        if diff > most_dissm_object_value:\n",
    "            most_dissm_object_value = diff\n",
    "            most_dissm_object_index = ele\n",
    "    if(most_dissm_object_value>0):\n",
    "        return  (most_dissm_object_index, 1)\n",
    "    else:\n",
    "        return (-1, -1)\n",
    "    \n",
    "def split(element_list):\n",
    "    main_list = element_list\n",
    "    splinter_group = []    \n",
    "    (most_dissm_object_index,flag) = splinter(main_list, splinter_group)\n",
    "    while(flag > 0):\n",
    "        main_list.remove(most_dissm_object_index)\n",
    "        splinter_group.append(most_dissm_object_index)\n",
    "        (most_dissm_object_index,flag) = splinter(element_list, splinter_group)\n",
    "    \n",
    "    return (main_list, splinter_group)\n",
    "\n",
    "def max_diameter(cluster_list):\n",
    "    max_diameter_cluster_index = None\n",
    "    max_diameter_cluster_value = -np.inf\n",
    "    index = 0\n",
    "    for element_list in cluster_list:\n",
    "        for i in element_list:\n",
    "            for j in element_list:\n",
    "                if dissimilarity_matrix[i][j]  > max_diameter_cluster_value:\n",
    "                    max_diameter_cluster_value = dissimilarity_matrix[i][j]\n",
    "                    max_diameter_cluster_index = index\n",
    "        \n",
    "        index +=1\n",
    "    \n",
    "    if(max_diameter_cluster_value <= 0):\n",
    "        return -1\n",
    "    \n",
    "    return max_diameter_cluster_index\n",
    "    \n",
    "\n",
    "current_clusters = ([all_elements])\n",
    "level = 1\n",
    "index = 0\n",
    "while(index!=-1):\n",
    "    print('Level %d -->\\n%s\\n' % (level, current_clusters))\n",
    "    (a_clstr, b_clstr) = split(current_clusters[index])\n",
    "    del current_clusters[index]\n",
    "    current_clusters.append(a_clstr)\n",
    "    current_clusters.append(b_clstr)\n",
    "    index = max_diameter(current_clusters)\n",
    "    level +=1\n",
    "\n",
    "\n",
    "print('Level %d -->\\n%s\\n' % (level, current_clusters))"
   ]
  },
  {
   "cell_type": "markdown",
   "metadata": {},
   "source": [
    "__The above shoes the different clusters in the dataset at different levels of clustering.__"
   ]
  },
  {
   "cell_type": "markdown",
   "metadata": {},
   "source": [
    "# Self Organizing Maps Clustering"
   ]
  },
  {
   "cell_type": "markdown",
   "metadata": {},
   "source": [
    "__We will perform SOM on the dataset and identify which cluster they belong to.I'll be using minisom.MiniSom is a minimalistic and Numpy based implementation of the Self Organizing Maps (SOM). SOM is a type of Artificial Neural Network able to convert complex, nonlinear statistical relationships between high-dimensional data items into simple geometric relationships on a low-dimensional display.__"
   ]
  },
  {
   "cell_type": "markdown",
   "metadata": {},
   "source": [
    "__Link to minisom reference: https://github.com/JustGlowing/minisom__"
   ]
  },
  {
   "cell_type": "code",
   "execution_count": 22,
   "metadata": {},
   "outputs": [],
   "source": [
    "from minisom import MiniSom\n",
    "som = MiniSom(7, 7, data.shape[1], sigma = 1, learning_rate = 0.5) # initialization of 7*7 SOM\n",
    "som.random_weights_init(data.values)\n",
    "som.train_random(data.values, 200) #Train the SOM with 200 iterations."
   ]
  },
  {
   "cell_type": "code",
   "execution_count": 26,
   "metadata": {
    "scrolled": true
   },
   "outputs": [
    {
     "data": {
      "image/png": "[encoded data removed]",
      "text/plain": [
       "<Figure size 432x288 with 2 Axes>"
      ]
     },
     "metadata": {},
     "output_type": "display_data"
    }
   ],
   "source": [
    "from pylab import plot,axis,show,pcolor,colorbar,bone\n",
    "bone()\n",
    "pcolor(som.distance_map().T) # distance map as background\n",
    "colorbar()\n",
    "# loading the labels\n",
    "target = labels\n",
    "t = np.zeros(len(target),dtype=np.int64)\n",
    "t[target == 1] = 0\n",
    "t[target == 2] = 1\n",
    "t[target == 3] = 2\n",
    "# use different colors and markers for each label\n",
    "markers = ['s','v','o']\n",
    "colors = ['C0','C1','C2']\n",
    "for cnt,xx in enumerate(data.values):\n",
    " w = som.winner(xx) # getting the winner\n",
    " # place a marker on the winning position for the sample xx\n",
    " plot(w[0]+.5,w[1]+.5,markers[t[cnt]],markerfacecolor='None',\n",
    "   markeredgecolor=colors[t[cnt]],markersize=12,markeredgewidth=2)\n",
    "axis([0,som.get_weights().shape[0],0,som.get_weights().shape[1]])\n",
    "show() "
   ]
  },
  {
   "cell_type": "markdown",
   "metadata": {},
   "source": [
    "__This visualisation shows the different nodes from 7*7 grid with different colors for different classes. The nodes belonging to a neuron associated with a class classifies that input data into that class and hence clusters them based on the proximity of the nodes.__"
   ]
  }
 ],
 "metadata": {
  "kernelspec": {
   "display_name": "Python 3",
   "language": "python",
   "name": "python3"
  },
  "language_info": {
   "codemirror_mode": {
    "name": "ipython",
    "version": 3
   },
   "file_extension": ".py",
   "mimetype": "text/x-python",
   "name": "python",
   "nbconvert_exporter": "python",
   "pygments_lexer": "ipython3",
   "version": "3.6.5"
  }
 },
 "nbformat": 4,
 "nbformat_minor": 2
}
